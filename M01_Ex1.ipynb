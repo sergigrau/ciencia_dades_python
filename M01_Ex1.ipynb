{
 "cells": [
  {
   "cell_type": "markdown",
   "metadata": {},
   "source": [
    "# Mòdul 1 - Exercicis de comprovació\n",
    "Sergi Grau"
   ]
  },
  {
   "cell_type": "markdown",
   "metadata": {},
   "source": [
    "## Descripció:\n",
    "\n",
    "Exercicis per comprovar que s'ha instal·lat correctament l'entorn i que es coneixen les funcionalitats bàsiques d'aquest. \n",
    "\n",
    "Comencem a familiaritzar-nos amb Python mitjançant l'entorn de treball \"Jupyter Notebook\". Comencem amb uns quants exercicis bàsics. \n",
    "\n",
    "Si tens dubtes, utilitza els canals habituals de consulta. \n"
   ]
  },
  {
   "cell_type": "markdown",
   "metadata": {},
   "source": [
    "## Exercici 1 \n",
    "\n",
    "Instal·la el programa Anaconda amb Python 3, i Jupyter Notebook. \n"
   ]
  },
  {
   "cell_type": "code",
   "execution_count": null,
   "metadata": {},
   "outputs": [],
   "source": [
    "# Fet"
   ]
  },
  {
   "cell_type": "markdown",
   "metadata": {},
   "source": [
    "## Exercici 2\n",
    "\n",
    "Utilitzant Jupyter Notebook executa alguns càlculs senzills, a la vegada que et familiaritzes amb el llenguatge Markdown. \n"
   ]
  },
  {
   "cell_type": "code",
   "execution_count": 1,
   "metadata": {},
   "outputs": [
    {
     "name": "stdout",
     "output_type": "stream",
     "text": [
      "resultat de la resta: 8\n",
      "resultat de la potencia: 16\n",
      "Casting : 10\n",
      "El meu nom es  Sergi  i tinc 50 anys\n",
      "El meu nom es Sergi i tinc 50 anys\n",
      "Booleans: True False\n"
     ]
    }
   ],
   "source": [
    "#operacions artimètiques\n",
    "resta = 10 - 2\n",
    "print(\"resultat de la resta:\", resta)\n",
    "potencia = 2 ** 4\n",
    "print(\"resultat de la potencia:\", potencia)\n",
    "\n",
    "# Casting \n",
    "nombre_real = 10.5\n",
    "nombre_enter = int(nombre_real)\n",
    "print(\"Casting :\", nombre_enter)\n",
    "\n",
    "# String \n",
    "nom = \"Sergi\"\n",
    "edat = 50\n",
    "res = \"El meu nom es \" + nom + \" i tinc \" + str(edat) + \" anys\"\n",
    "print(\"El meu nom es \", nom, \" i tinc\", edat, \"anys\")\n",
    "print(res)\n",
    "\n",
    "# Boolean\n",
    "is_true = True\n",
    "is_false = False\n",
    "print(\"Booleans:\", is_true, is_false)"
   ]
  },
  {
   "cell_type": "markdown",
   "metadata": {},
   "source": [
    "## Exercici 3\n",
    "\n",
    "Prova de crear títols, llistes, canviar l’estil de la lletra o afegir imatges dins del Notebook. \n"
   ]
  },
  {
   "cell_type": "code",
   "execution_count": null,
   "metadata": {},
   "outputs": [],
   "source": [
    "# Aquest mateix document entrgat té MD"
   ]
  },
  {
   "cell_type": "markdown",
   "metadata": {},
   "source": [
    "## Exercici 4\n",
    "\n",
    "Exporta el Notebook com a PDF i com a HTML. \n",
    "\n",
    "**Objectius**\n",
    "\n",
    "- Crear variables. \n",
    "- Realitzar operacions matemàtiques. \n",
    "- Transformar amb càsting. \n",
    "- Tècniques amb Strings. \n",
    "- Aprendre a insertar variables de tipus Boolean. "
   ]
  },
  {
   "cell_type": "code",
   "execution_count": null,
   "metadata": {},
   "outputs": [],
   "source": [
    "# Fitxer adjunt"
   ]
  }
 ],
 "metadata": {
  "kernelspec": {
   "display_name": "Python 3",
   "language": "python",
   "name": "python3"
  },
  "language_info": {
   "codemirror_mode": {
    "name": "ipython",
    "version": 3
   },
   "file_extension": ".py",
   "mimetype": "text/x-python",
   "name": "python",
   "nbconvert_exporter": "python",
   "pygments_lexer": "ipython3",
   "version": "3.11.1"
  }
 },
 "nbformat": 4,
 "nbformat_minor": 2
}
