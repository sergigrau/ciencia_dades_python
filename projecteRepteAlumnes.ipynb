{
 "cells": [
  {
   "cell_type": "markdown",
   "metadata": {},
   "source": [
    "# Projecte curs 2023-2024\tIntroducció a la ciència de dades amb Python (B2) Ed.2\n",
    "# Implementació d'un Repte per als alumnes de DAW2 que forma part de l'assignatura M0704 Serveis Web\n",
    "### Sergi Grau \n",
    "## https://blocs.xtec.cat/cienciadades/"
   ]
  },
  {
   "cell_type": "markdown",
   "metadata": {},
   "source": [
    "# **Repte de Ciència de Dades per a la Detecció de Zones Sorolloses a Barcelona en el marc d'un repte proposat als alumnes**\n",
    "\n",
    "## objectius\n",
    "\n",
    "- Els alumnes creen un backend amb Python mitjançant el framework fastapi\n",
    "- Els alumnes comprenen quines son las fases en que costa un projecte de ciència de dades per realitzar una anàlisi amb un cojunt de dades\n",
    "- Els alumnes interpreten y adapten un notebook subministat que subsmistra la següent informació.\n",
    "- Els alumnes implementen operacions REST per a poder obtenir informació continguda en el notebook subministrat\n",
    "\n",
    "## Descripció\n",
    "\n",
    "En aquest Repte, ens centrarem en la identificació de quantes zones sorolloses podem identificar a la ciutat de Barcelona. El soroll és un factor ambiental que pot afectar la salut de la població, i és essencial identificar les zones més afectades per prendre mesures adequades. Identificar quantes tipologies de zones de soroll DIA-NIT, pot permetre implementar polítiques per a reduir el seu impacte en la població.\n",
    "\n",
    "Per aquest repte, crearem una **API RESTful** utilitzant **FastAPI** en **Python**. Aquesta API permetrà als usuaris gestionar una col·lecció d'elements (com ara llibres, productes o usuaris) mitjançant les operacions CRUD (Create, Read, Update i Delete). Aquí tens els passos per implementar la funcionalitat CRUD amb FastAPI:\n",
    "\n",
    "## Fases del Repte\n",
    "\n",
    "1. **Configuració del Repte**:\n",
    "   - Crea un nou directori de projecte Python.\n",
    "   - Assegura't de tenir coneixements bàsics de Python i comprensió de les API RESTful i els mètodes HTTP.\n",
    "   - Instal·la Python 3.10+ i un IDE com Visual Studio Code.\n",
    "   - Opcionalment, familiaritza't amb conceptes com Typing de Python i Response Model de FastAPI.\n",
    "\n",
    "2. **Creació de l'API**:\n",
    "   - Utilitza FastAPI per crear una API RESTful.\n",
    "   - Defineix les rutes i els mètodes HTTP per a les operacions CRUD (Create, Read, Update i Delete).\n",
    "   - Pots seguir aquesta [guia ràpida](https://medium.com/datapath/gu%C3%ADa-r%C3%A1pida-para-implementar-operaciones-crud-con-fastapi-3d69b4d7c98a) per a més detalls sobre com implementar operacions CRUD amb FastAPI.\n",
    "\n",
    "3. **Comprensió del notebook subministat amb l'anàlisi de clustering del nombre de zones sorolloses de la ciutat**:\n",
    "   - Executa i analitza el notebook subministrat (projecteNotebook.ipynb)\n",
    "   - El professor explica cadascuna de les fases del procés de modelització d'aprenentatge no supervisitat que s'ha implementat.\n",
    "\n",
    "4. **Implementació de les operacions CRUD a partir del notebook d'anàlisi de dades**:\n",
    "   - Crea les rutes i adapta les operacions necessaries per anar executant el notebook amb el model , pas a pas.\n",
    "   - Utilitza FastAPI per gestionar les peticions HTTP i interactuar amb el notebook. Per exemple, un GET per a llegir el CSV, un GET per a fer una anàlisi exploratoria de les dades, un POST per a crear un nou data set amb el tractament de les columnes categòriques, etc.\n",
    "   - Assegura't que les rutes siguin segures i autenticades segons les necessitats del teu projecte.\n",
    "\n",
    "5. **Proves i desplegament**:\n",
    "   - Prova l'API mitjançant eines com **Uvicorn**. L'ideal es primer implementar-ho en un notebook de Jupiter, i després executar el programa en Python en forma de servidor HTTP.\n",
    "   - Desplega l'API en un servidor remot si és necessari.\n",
    "   - Documenta les operacions REST que has implementat."
   ]
  },
  {
   "cell_type": "markdown",
   "metadata": {},
   "source": [
    "## Referències\n",
    "\n",
    "- FastAPI https://fastapi.tiangolo.com/\n",
    "- Mapes de dades ambientals | Barcelona Ciutat Digital | Ajuntament de .... https://ajuntament.barcelona.cat/digital/ca/tecnologia-al-servei-de-les-persones/ciutat-mes-sostenible/mapes-de-dades-ambientals.\n",
    "- Mapa estratègic de soroll | Ajuntament de Barcelona. https://ajuntament.barcelona.cat/mapes-dades-ambientals/soroll/es/\n",
    "- Descripció del mapa https://ajuntament.barcelona.cat/mapes-dades-ambientals/qualitataire/es/faqs.html.\n",
    "- Mapes de soroll per tram de carrer del Mapa Estratègic de Soroll de la ciutat de Barcelona https://opendata-ajuntament.barcelona.cat/data/ca/dataset?q=soroll&agrupacio=Mapes+dades+ambientals&sort=fecha_publicacion+desc\n",
    "- Pots consultar aquest [tutorial](https://fastapi.tiangolo.com/es/tutorial/) per obtenir més detalls sobre l'ús de FastAPI.\n",
    "- Si vols veure un exemple pràctic, aquest [article](https://cosasdedevs.com/posts/api-rest-fastapi-completa/) explica com crear una API REST completa amb FastAPI."
   ]
  },
  {
   "cell_type": "markdown",
   "metadata": {},
   "source": []
  },
  {
   "cell_type": "markdown",
   "metadata": {},
   "source": [
    "## Exemple d'execució d'un servei web amb FAST API\n",
    "A partir d'aquest esquema cal que adapteu el Notebook projecfeNotebook per a crear diverses operacions REST que en permetin accedir"
   ]
  },
  {
   "cell_type": "code",
   "execution_count": null,
   "metadata": {},
   "outputs": [],
   "source": [
    "!pip install fastapi uvicorn"
   ]
  },
  {
   "cell_type": "markdown",
   "metadata": {},
   "source": [
    "### Servidor Web que implementa el servei web"
   ]
  },
  {
   "cell_type": "code",
   "execution_count": null,
   "metadata": {},
   "outputs": [],
   "source": [
    "from fastapi import FastAPI\n",
    "\n",
    "# Crea una instància de l'aplicació FastAPI\n",
    "app = FastAPI()\n",
    "\n",
    "# Defineix una ruta i la seva funció de controlador corresponent\n",
    "@app.get(\"/\")\n",
    "def salutacio():\n",
    "    return {\"dades\": \"hola món\"}\n",
    "@app.get(\"/salutacion\")\n",
    "def obtenir_totes_dades():\n",
    "    return {\"dades\": 1}\n",
    "\n",
    "#Executa l'aplicació FastAPI\n",
    "if __name__ == \"__main__\":\n",
    "    import nest_asyncio\n",
    "    nest_asyncio.apply()\n",
    "    import uvicorn\n",
    "    uvicorn.run(app, host=\"0.0.0.0\", port=8000)"
   ]
  },
  {
   "cell_type": "markdown",
   "metadata": {},
   "source": [
    "Com alternativa es podrien obtenir les dades dels servidors opendata de l'ajuntament"
   ]
  },
  {
   "cell_type": "code",
   "execution_count": 1,
   "metadata": {},
   "outputs": [
    {
     "name": "stdout",
     "output_type": "stream",
     "text": [
      "{'help': 'https://opendata-ajuntament.barcelona.cat/data/api/3/action/help_show?name=datastore_search', 'success': True, 'result': {'resource_id': '3ef70228-789c-47f7-8712-d3789b01a82e', 'fields': [{'type': 'int4', 'id': '_id'}, {'type': 'text', 'id': 'TRAM'}, {'type': 'text', 'id': 'TOTAL_D'}, {'type': 'text', 'id': 'TOTAL_E'}, {'type': 'text', 'id': 'TOTAL_N'}, {'type': 'text', 'id': 'TOTAL_DEN'}, {'type': 'text', 'id': 'TRANSIT_D'}, {'type': 'text', 'id': 'TRANSIT_E'}, {'type': 'text', 'id': 'TRANSIT_N'}, {'type': 'text', 'id': 'TRANSIT_DEN'}, {'type': 'text', 'id': 'GI_TR_D'}, {'type': 'text', 'id': 'GI_TR_E'}, {'type': 'text', 'id': 'GI_TR_N'}, {'type': 'text', 'id': 'GI_TR_DEN'}, {'type': 'text', 'id': 'FFCC_D'}, {'type': 'text', 'id': 'FFCC_E'}, {'type': 'text', 'id': 'FFCC_N'}, {'type': 'text', 'id': 'FFCC_DEN'}, {'type': 'text', 'id': 'INDUST_D'}, {'type': 'text', 'id': 'INDUST_E'}, {'type': 'text', 'id': 'INDUST_N'}, {'type': 'text', 'id': 'INDUST_DEN'}, {'type': 'text', 'id': 'VIANANTS_D'}, {'type': 'text', 'id': 'VIANANTS_E'}, {'type': 'text', 'id': 'OCI_N'}, {'type': 'text', 'id': 'PATIS_D'}, {'type': 'text', 'id': 'PATIS_E'}, {'type': 'text', 'id': 'GEOM_WKT'}, {'type': 'int8', 'id': '_full_count'}, {'type': 'float4', 'id': 'rank'}], 'q': 'title:jones', 'records': [], '_links': {'start': '/api/action/datastore_search?q=title%3Ajones&limit=5&resource_id=3ef70228-789c-47f7-8712-d3789b01a82e', 'next': '/api/action/datastore_search?q=title%3Ajones&offset=5&limit=5&resource_id=3ef70228-789c-47f7-8712-d3789b01a82e'}, 'limit': 5}}\n"
     ]
    }
   ],
   "source": [
    "import requests\n",
    "\n",
    "url = \"https://opendata-ajuntament.barcelona.cat/data/api/action/datastore_search?resource_id=3ef70228-789c-47f7-8712-d3789b01a82e&limit=5&q=title:jones\"  \n",
    "\n",
    "response = requests.get(url)\n",
    "\n",
    "if response.status_code == 200:\n",
    "    data = response.json()\n",
    "    print(data)\n",
    "else:\n",
    "    print(\"Error:\", response.status_code)\n"
   ]
  },
  {
   "cell_type": "markdown",
   "metadata": {},
   "source": [
    "### Notebook de data anàlisis de clustering sobre les dades de soroll de la ciutat de \n",
    "Analitzeu i executeu el notebook adjunt amb l'anàlisi del nombre de zones a considerar, en funció de si estan tensionades amb soroll de dia, de nit o amb dues."
   ]
  }
 ],
 "metadata": {
  "kernelspec": {
   "display_name": "Python 3",
   "language": "python",
   "name": "python3"
  },
  "language_info": {
   "codemirror_mode": {
    "name": "ipython",
    "version": 3
   },
   "file_extension": ".py",
   "mimetype": "text/x-python",
   "name": "python",
   "nbconvert_exporter": "python",
   "pygments_lexer": "ipython3",
   "version": "3.11.1"
  }
 },
 "nbformat": 4,
 "nbformat_minor": 2
}
