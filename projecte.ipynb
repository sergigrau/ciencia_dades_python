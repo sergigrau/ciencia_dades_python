{
 "cells": [
  {
   "cell_type": "markdown",
   "metadata": {},
   "source": [
    "# Projecte curs ciència de dades\n",
    "### Sergi Grau"
   ]
  },
  {
   "cell_type": "markdown",
   "metadata": {},
   "source": [
    "**Projecte de Ciència de Dades per a la Detecció de Zones Sorolloses a Barcelona**\n",
    "\n",
    "En aquest projecte, ens centrarem en la detecció i reducció de la contaminació acústica a la ciutat de Barcelona. El soroll és un factor ambiental que pot afectar la salut de la població, i és essencial identificar les zones més afectades per prendre mesures adequades. Ho aplicarem a l'assignatura de serveis web del CFGS de desenvolupament web per a crear un servei REST amb fastapi.\n",
    "\n",
    "**objectius**\n",
    "\n",
    "- Els alumnes creen un backend amb Python mitjançant el framework fastapi\n",
    "- Els alumnes comprenen quines son las fases en que costa un projecte de ciència de dades per realitzar una anàlisi amb un cojunt de dades\n",
    "- Els alumnes interpreten y adapten un notebook subministat que subsmistra la següent informació:\n",
    "\n",
    "**fases**\n",
    "\n",
    "1. **Anàlisi de com s'ha realitzat la Recopilació de Dades** :  Es mostren els nivells de soroll en diferents llocs de la ciutat, amb diverses transformacions fetes amb pandas. Es poden passar paràmetres i es retorna la informació en forma de JSON en el servei web. Es proporcionaran dades sobre els decibels registrats en carrers, places i altres espais públics.\n",
    "\n",
    "2. **Anàlisi de com es fa Identificació de Zones Sorolloses**: Analitzarem les dades recopilades per identificar les **zones acústicament tensionades** poden-ho parametritzar en funció de les hores analitzades. Per a fer-ho utilitzarem un model basat en diversos algorismes d'aprenentatge no supervisats.\n"
   ]
  },
  {
   "cell_type": "markdown",
   "metadata": {},
   "source": [
    "## Referències\n",
    "\n",
    "- FastAPI https://fastapi.tiangolo.com/\n",
    "- Mapes de dades ambientals | Barcelona Ciutat Digital | Ajuntament de .... https://ajuntament.barcelona.cat/digital/ca/tecnologia-al-servei-de-les-persones/ciutat-mes-sostenible/mapes-de-dades-ambientals.\n",
    "- Mapa estratègic de soroll | Ajuntament de Barcelona. https://ajuntament.barcelona.cat/mapes-dades-ambientals/soroll/es/\n",
    "- Descripció del mapa https://ajuntament.barcelona.cat/mapes-dades-ambientals/qualitataire/es/faqs.html.\n",
    "- Mapes de soroll per tram de carrer del Mapa Estratègic de Soroll de la ciutat de Barcelona https://opendata-ajuntament.barcelona.cat/data/ca/dataset?q=soroll&agrupacio=Mapes+dades+ambientals&sort=fecha_publicacion+desc"
   ]
  },
  {
   "cell_type": "markdown",
   "metadata": {},
   "source": []
  },
  {
   "cell_type": "code",
   "execution_count": null,
   "metadata": {},
   "outputs": [],
   "source": [
    "!pip install fastapi uvicorn"
   ]
  },
  {
   "cell_type": "markdown",
   "metadata": {},
   "source": [
    "## Servidor Web que implementa el servei web"
   ]
  },
  {
   "cell_type": "code",
   "execution_count": null,
   "metadata": {},
   "outputs": [],
   "source": [
    "from fastapi import FastAPI\n",
    "\n",
    "# Crea una instància de l'aplicació FastAPI\n",
    "app = FastAPI()\n",
    "\n",
    "# Defineix una ruta i la seva funció de controlador corresponent\n",
    "@app.get(\"/\")\n",
    "def read_root():\n",
    "    return {\"dades\": \"hola món\"}\n",
    "\n",
    "#Executa l'aplicació FastAPI\n",
    "if __name__ == \"__main__\":\n",
    "    import nest_asyncio\n",
    "    nest_asyncio.apply()\n",
    "    import uvicorn\n",
    "    uvicorn.run(app, host=\"0.0.0.0\", port=8000)\n"
   ]
  },
  {
   "cell_type": "code",
   "execution_count": null,
   "metadata": {},
   "outputs": [],
   "source": [
    "import asyncio\n",
    "import uvicorn\n",
    "\n",
    "if __name__ == \"__main__\":\n",
    "    config = uvicorn.Config(app)  # Reemplaza 'app' con tu aplicación FastAPI\n",
    "    server = uvicorn.Server(config)\n",
    "    await server.serve()\n"
   ]
  },
  {
   "cell_type": "code",
   "execution_count": 5,
   "metadata": {},
   "outputs": [
    {
     "name": "stdout",
     "output_type": "stream",
     "text": [
      "{'help': 'https://opendata-ajuntament.barcelona.cat/data/api/3/action/help_show?name=datastore_search', 'success': True, 'result': {'resource_id': '3ef70228-789c-47f7-8712-d3789b01a82e', 'fields': [{'type': 'int4', 'id': '_id'}, {'type': 'text', 'id': 'TRAM'}, {'type': 'text', 'id': 'TOTAL_D'}, {'type': 'text', 'id': 'TOTAL_E'}, {'type': 'text', 'id': 'TOTAL_N'}, {'type': 'text', 'id': 'TOTAL_DEN'}, {'type': 'text', 'id': 'TRANSIT_D'}, {'type': 'text', 'id': 'TRANSIT_E'}, {'type': 'text', 'id': 'TRANSIT_N'}, {'type': 'text', 'id': 'TRANSIT_DEN'}, {'type': 'text', 'id': 'GI_TR_D'}, {'type': 'text', 'id': 'GI_TR_E'}, {'type': 'text', 'id': 'GI_TR_N'}, {'type': 'text', 'id': 'GI_TR_DEN'}, {'type': 'text', 'id': 'FFCC_D'}, {'type': 'text', 'id': 'FFCC_E'}, {'type': 'text', 'id': 'FFCC_N'}, {'type': 'text', 'id': 'FFCC_DEN'}, {'type': 'text', 'id': 'INDUST_D'}, {'type': 'text', 'id': 'INDUST_E'}, {'type': 'text', 'id': 'INDUST_N'}, {'type': 'text', 'id': 'INDUST_DEN'}, {'type': 'text', 'id': 'VIANANTS_D'}, {'type': 'text', 'id': 'VIANANTS_E'}, {'type': 'text', 'id': 'OCI_N'}, {'type': 'text', 'id': 'PATIS_D'}, {'type': 'text', 'id': 'PATIS_E'}, {'type': 'text', 'id': 'GEOM_WKT'}, {'type': 'int8', 'id': '_full_count'}, {'type': 'float4', 'id': 'rank'}], 'q': 'title:jones', 'records': [], '_links': {'start': '/api/action/datastore_search?q=title%3Ajones&limit=5&resource_id=3ef70228-789c-47f7-8712-d3789b01a82e', 'next': '/api/action/datastore_search?q=title%3Ajones&offset=5&limit=5&resource_id=3ef70228-789c-47f7-8712-d3789b01a82e'}, 'limit': 5}}\n"
     ]
    }
   ],
   "source": [
    "import requests\n",
    "\n",
    "url = \"https://opendata-ajuntament.barcelona.cat/data/api/action/datastore_search?resource_id=3ef70228-789c-47f7-8712-d3789b01a82e&limit=5&q=title:jones\"  \n",
    "\n",
    "response = requests.get(url)\n",
    "\n",
    "if response.status_code == 200:\n",
    "    data = response.json()\n",
    "    print(data)\n",
    "else:\n",
    "    print(\"Error:\", response.status_code)\n"
   ]
  },
  {
   "cell_type": "code",
   "execution_count": null,
   "metadata": {},
   "outputs": [],
   "source": []
  }
 ],
 "metadata": {
  "kernelspec": {
   "display_name": "Python 3",
   "language": "python",
   "name": "python3"
  },
  "language_info": {
   "codemirror_mode": {
    "name": "ipython",
    "version": 3
   },
   "file_extension": ".py",
   "mimetype": "text/x-python",
   "name": "python",
   "nbconvert_exporter": "python",
   "pygments_lexer": "ipython3",
   "version": "3.11.1"
  }
 },
 "nbformat": 4,
 "nbformat_minor": 2
}
